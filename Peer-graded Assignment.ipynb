{
 "cells": [
  {
   "cell_type": "markdown",
   "metadata": {
    "collapsed": true
   },
   "source": [
    "# My Jupyter Notebook on IBM Watson Studio"
   ]
  },
  {
   "cell_type": "markdown",
   "metadata": {},
   "source": [
    "**Volodymyr Rusin**\n",
    "\n",
    "Accountant who wants to become data scientist"
   ]
  },
  {
   "cell_type": "markdown",
   "metadata": {},
   "source": [
    "*I am interested in data science because I like to work with data, numbers and statisctics*"
   ]
  },
  {
   "cell_type": "markdown",
   "metadata": {},
   "source": [
    "### The following code simulates the game Blackjack"
   ]
  },
  {
   "cell_type": "code",
   "execution_count": 2,
   "metadata": {},
   "outputs": [],
   "source": [
    "def hand_total(hand):\n",
    "    all_cards = {\"1\": 1, \"2\": 2, \"3\": 3, \"4\": 4, \"5\": 5, \"6\": 6, \"7\": 7, \"8\": 8, \"9\": 9, \"10\": 10,\n",
    "                \"J\": 10, \"Q\": 10, \"K\": 10, \"A\": 11}\n",
    "    total = 0\n",
    "    for i in hand:\n",
    "        total += all_cards[i]\n",
    "    for i in hand:\n",
    "        if i == \"A\" and total > 21:\n",
    "            total -= 10\n",
    "    return total\n",
    "\n",
    "def blackjack_hand_greater_than(player, casino):\n",
    "    a = hand_total(player)\n",
    "    b = hand_total(casino)\n",
    "    if a <= 21:\n",
    "        if a > b or b > 21:\n",
    "            print(\"Player wins\")\n",
    "        else:\n",
    "            print(\"Casino wins\")\n",
    "    else:\n",
    "        print(\"Casino wins\")\n",
    "    pass"
   ]
  },
  {
   "cell_type": "markdown",
   "metadata": {},
   "source": [
    "- Ukraine\n",
    "- Will\n",
    "- Never\n",
    "- Give \n",
    "- Up\n",
    "\n",
    "| People | Tanks | Planes |\n",
    "| --- | --- | --- |\n",
    "| 37 870 | 1 667 | 219 |\n",
    "\n",
    "https://en.wikipedia.org/wiki/2022_Russian_invasion_of_Ukraine"
   ]
  }
 ],
 "metadata": {
  "kernelspec": {
   "display_name": "Python 3.9",
   "language": "python",
   "name": "python3"
  },
  "language_info": {
   "codemirror_mode": {
    "name": "ipython",
    "version": 3
   },
   "file_extension": ".py",
   "mimetype": "text/x-python",
   "name": "python",
   "nbconvert_exporter": "python",
   "pygments_lexer": "ipython3",
   "version": "3.9.12"
  }
 },
 "nbformat": 4,
 "nbformat_minor": 1
}
